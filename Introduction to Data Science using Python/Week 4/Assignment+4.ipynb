{
 "cells": [
  {
   "cell_type": "markdown",
   "metadata": {},
   "source": [
    "---\n",
    "\n",
    "_You are currently looking at **version 1.1** of this notebook. To download notebooks and datafiles, as well as get help on Jupyter notebooks in the Coursera platform, visit the [Jupyter Notebook FAQ](https://www.coursera.org/learn/python-data-analysis/resources/0dhYG) course resource._\n",
    "\n",
    "---"
   ]
  },
  {
   "cell_type": "code",
   "execution_count": 59,
   "metadata": {
    "collapsed": true
   },
   "outputs": [],
   "source": [
    "import pandas as pd\n",
    "import numpy as np\n",
    "from scipy.stats import ttest_ind"
   ]
  },
  {
   "cell_type": "markdown",
   "metadata": {},
   "source": [
    "# Assignment 4 - Hypothesis Testing\n",
    "This assignment requires more individual learning than previous assignments - you are encouraged to check out the [pandas documentation](http://pandas.pydata.org/pandas-docs/stable/) to find functions or methods you might not have used yet, or ask questions on [Stack Overflow](http://stackoverflow.com/) and tag them as pandas and python related. And of course, the discussion forums are open for interaction with your peers and the course staff.\n",
    "\n",
    "Definitions:\n",
    "* A _quarter_ is a specific three month period, Q1 is January through March, Q2 is April through June, Q3 is July through September, Q4 is October through December.\n",
    "* A _recession_ is defined as starting with two consecutive quarters of GDP decline, and ending with two consecutive quarters of GDP growth.\n",
    "* A _recession bottom_ is the quarter within a recession which had the lowest GDP.\n",
    "* A _university town_ is a city which has a high percentage of university students compared to the total population of the city.\n",
    "\n",
    "**Hypothesis**: University towns have their mean housing prices less effected by recessions. Run a t-test to compare the ratio of the mean price of houses in university towns the quarter before the recession starts compared to the recession bottom. (`price_ratio=quarter_before_recession/recession_bottom`)\n",
    "\n",
    "The following data files are available for this assignment:\n",
    "* From the [Zillow research data site](http://www.zillow.com/research/data/) there is housing data for the United States. In particular the datafile for [all homes at a city level](http://files.zillowstatic.com/research/public/City/City_Zhvi_AllHomes.csv), ```City_Zhvi_AllHomes.csv```, has median home sale prices at a fine grained level.\n",
    "* From the Wikipedia page on college towns is a list of [university towns in the United States](https://en.wikipedia.org/wiki/List_of_college_towns#College_towns_in_the_United_States) which has been copy and pasted into the file ```university_towns.txt```.\n",
    "* From Bureau of Economic Analysis, US Department of Commerce, the [GDP over time](http://www.bea.gov/national/index.htm#gdp) of the United States in current dollars (use the chained value in 2009 dollars), in quarterly intervals, in the file ```gdplev.xls```. For this assignment, only look at GDP data from the first quarter of 2000 onward.\n",
    "\n",
    "Each function in this assignment below is worth 10%, with the exception of ```run_ttest()```, which is worth 50%."
   ]
  },
  {
   "cell_type": "code",
   "execution_count": 60,
   "metadata": {
    "collapsed": true
   },
   "outputs": [],
   "source": [
    "# Use this dictionary to map state names to two letter acronyms\n",
    "states = {'OH': 'Ohio', 'KY': 'Kentucky', 'AS': 'American Samoa', 'NV': 'Nevada', 'WY': 'Wyoming', 'NA': 'National', 'AL': 'Alabama', 'MD': 'Maryland', 'AK': 'Alaska', 'UT': 'Utah', 'OR': 'Oregon', 'MT': 'Montana', 'IL': 'Illinois', 'TN': 'Tennessee', 'DC': 'District of Columbia', 'VT': 'Vermont', 'ID': 'Idaho', 'AR': 'Arkansas', 'ME': 'Maine', 'WA': 'Washington', 'HI': 'Hawaii', 'WI': 'Wisconsin', 'MI': 'Michigan', 'IN': 'Indiana', 'NJ': 'New Jersey', 'AZ': 'Arizona', 'GU': 'Guam', 'MS': 'Mississippi', 'PR': 'Puerto Rico', 'NC': 'North Carolina', 'TX': 'Texas', 'SD': 'South Dakota', 'MP': 'Northern Mariana Islands', 'IA': 'Iowa', 'MO': 'Missouri', 'CT': 'Connecticut', 'WV': 'West Virginia', 'SC': 'South Carolina', 'LA': 'Louisiana', 'KS': 'Kansas', 'NY': 'New York', 'NE': 'Nebraska', 'OK': 'Oklahoma', 'FL': 'Florida', 'CA': 'California', 'CO': 'Colorado', 'PA': 'Pennsylvania', 'DE': 'Delaware', 'NM': 'New Mexico', 'RI': 'Rhode Island', 'MN': 'Minnesota', 'VI': 'Virgin Islands', 'NH': 'New Hampshire', 'MA': 'Massachusetts', 'GA': 'Georgia', 'ND': 'North Dakota', 'VA': 'Virginia'}"
   ]
  },
  {
   "cell_type": "code",
   "execution_count": 63,
   "metadata": {
    "collapsed": true,
    "umich_part_id": "021",
    "umich_partlist_id": "004"
   },
   "outputs": [],
   "source": [
    "def get_list_of_university_towns():\n",
    "    '''Returns a DataFrame of towns and the states they are in from the \n",
    "    university_towns.txt list. The format of the DataFrame should be:\n",
    "    DataFrame( [ [\"Michigan\", \"Ann Arbor\"], [\"Michigan\", \"Yipsilanti\"] ], \n",
    "    columns=[\"State\", \"RegionName\"]  )\n",
    "    \n",
    "    The following cleaning needs to be done:\n",
    "\n",
    "    1. For \"State\", removing characters from \"[\" to the end.\n",
    "    2. For \"RegionName\", when applicable, removing every character from \" (\" to the end.\n",
    "    3. Depending on how you read the data, you may need to remove newline character '\\n'. '''\n",
    "    \n",
    "    with open('university_towns.txt') as file:\n",
    "        data = []\n",
    "        for line in file:\n",
    "            data.append(line[:-1])\n",
    "            \n",
    "        state_town = []\n",
    "        for line in data:\n",
    "            if line[-6:] == '[edit]':\n",
    "                state = line[:-6]\n",
    "            elif '(' in line:\n",
    "                town = line[:line.index('(')-1]\n",
    "                state_town.append([state,town])\n",
    "            else:\n",
    "                town = line.rstrip('')\n",
    "                state_town.append([state,town])\n",
    "    \n",
    "    return pd.DataFrame(state_town, columns = ['State', 'RegionName'])\n",
    "#get_list_of_university_towns()"
   ]
  },
  {
   "cell_type": "code",
   "execution_count": 64,
   "metadata": {
    "collapsed": true,
    "umich_part_id": "022",
    "umich_partlist_id": "004"
   },
   "outputs": [],
   "source": [
    "def get_recession_start():\n",
    "    '''Returns the year and quarter of the recession start time as a \n",
    "    string value in a format such as 2005q3'''\n",
    "    \n",
    "    gdp = pd.read_excel('gdplev.xls',skiprows = 7)\n",
    "    gdp = gdp[gdp.columns[[4, 5, 6]]]\n",
    "    gdp.columns = ['Quarter','GDP Current', 'GDP 2009']\n",
    "    gdp = gdp.iloc[212:]\n",
    "    gdp = gdp.reset_index()\n",
    "    gdp = gdp.drop('index' ,axis = 1)\n",
    "    for i in range(len(gdp)-4):\n",
    "        if gdp.iloc[i][1] > gdp.iloc[i+1][1] and gdp.iloc[i+1][1] > gdp.iloc[i+2][1]:\n",
    "            recession_start = gdp.iloc[i][0]\n",
    "            break\n",
    "        \n",
    "    return recession_start\n",
    "#get_recession_start()"
   ]
  },
  {
   "cell_type": "code",
   "execution_count": 65,
   "metadata": {
    "collapsed": true,
    "umich_part_id": "023",
    "umich_partlist_id": "004"
   },
   "outputs": [],
   "source": [
    "def get_recession_end():\n",
    "    '''Returns the year and quarter of the recession end time as a \n",
    "    string value in a format such as 2005q3'''\n",
    "    \n",
    "    gdp = pd.read_excel('gdplev.xls',skiprows = 7)\n",
    "    gdp = gdp[gdp.columns[[4, 5, 6]]]\n",
    "    gdp.columns = ['Quarter','GDP Current', 'GDP 2009']\n",
    "    gdp = gdp.iloc[212:]\n",
    "    gdp = gdp.reset_index()\n",
    "    gdp = gdp.drop('index' ,axis = 1)\n",
    "    for i in range(len(gdp)-4):\n",
    "        if ((gdp.iloc[i][1] > gdp.iloc[i+1][1]) & (gdp.iloc[i+1][1] > gdp.iloc[i+2][1]) & (gdp.iloc[i+2][1] < gdp.iloc[i+3][1]) & (gdp.iloc[i+3][1] < gdp.iloc[i+4][1])):\n",
    "            recession_end = gdp.iloc[i+4][0]\n",
    "            break\n",
    "        \n",
    "    return recession_end\n",
    "\n",
    "#get_recession_end()"
   ]
  },
  {
   "cell_type": "code",
   "execution_count": 66,
   "metadata": {
    "collapsed": true,
    "umich_part_id": "024",
    "umich_partlist_id": "004"
   },
   "outputs": [],
   "source": [
    "def get_recession_bottom():\n",
    "    '''Returns the year and quarter of the recession bottom time as a \n",
    "    string value in a format such as 2005q3'''\n",
    "    gdp = pd.read_excel('gdplev.xls',skiprows = 7)\n",
    "    gdp = gdp[gdp.columns[[4, 5, 6]]]\n",
    "    gdp.columns = ['Quarter','GDP Current', 'GDP 2009']\n",
    "    gdp = gdp.iloc[212:]\n",
    "    gdp = gdp.reset_index()\n",
    "    gdp = gdp.drop('index' ,axis = 1)\n",
    "    for i in range(len(gdp)-4):\n",
    "        if ((gdp.iloc[i][1] > gdp.iloc[i+1][1]) & (gdp.iloc[i+1][1] > gdp.iloc[i+2][1]) & (gdp.iloc[i+2][1] < gdp.iloc[i+3][1]) & (gdp.iloc[i+3][1] < gdp.iloc[i+4][1])):\n",
    "            recession_bottom = gdp.iloc[i+2][0]\n",
    "            break\n",
    "        \n",
    "    return recession_bottom\n",
    "\n",
    "#get_recession_bottom()"
   ]
  },
  {
   "cell_type": "code",
   "execution_count": 67,
   "metadata": {
    "collapsed": true,
    "umich_part_id": "025",
    "umich_partlist_id": "004"
   },
   "outputs": [],
   "source": [
    "def convert_housing_data_to_quarters():\n",
    "    '''Converts the housing data to quarters and returns it as mean \n",
    "    values in a dataframe. This dataframe should be a dataframe with\n",
    "    columns for 2000q1 through 2016q3, and should have a multi-index\n",
    "    in the shape of [\"State\",\"RegionName\"].\n",
    "    \n",
    "    Note: Quarters are defined in the assignment description, they are\n",
    "    not arbitrary three month periods.\n",
    "    \n",
    "    The resulting dataframe should have 67 columns, and 10,730 rows.\n",
    "    '''\n",
    "    \n",
    "    house_df = pd.read_csv('City_Zhvi_AllHomes.csv')\n",
    "    house_df = house_df.drop(house_df.columns[[0] + list(range(3,51))], axis=1)\n",
    "    house_df['State'] = house_df['State'].apply(lambda x : states[x])\n",
    "    ans = house_df[['State','RegionName']]\n",
    "    \n",
    "    for year in range(2000,2016):\n",
    "        ans[str(year) + 'q1'] = house_df[[str(year) + '-01', str(year) + '-02', str(year) + '-03']].mean(axis = 1)\n",
    "        ans[str(year) + 'q2'] = house_df[[str(year) + '-04', str(year) + '-05', str(year) + '-06']].mean(axis = 1)\n",
    "        ans[str(year) + 'q3'] = house_df[[str(year) + '-07', str(year) + '-08', str(year) + '-09']].mean(axis = 1)\n",
    "        ans[str(year) + 'q4'] = house_df[[str(year) + '-10', str(year) + '-11', str(year) + '-12']].mean(axis = 1)\n",
    "    \n",
    "    year = 2016\n",
    "    ans[str(year) + 'q1'] = house_df[[str(year) + '-01', str(year) + '-02', str(year) + '-03']].mean(axis = 1)\n",
    "    ans[str(year) + 'q2'] = house_df[[str(year) + '-04', str(year) + '-05', str(year) + '-06']].mean(axis = 1)\n",
    "    ans[str(year) + 'q3'] = house_df[[str(year) + '-07', str(year) + '-08']].mean(axis = 1)\n",
    "    \n",
    "    ans = ans.set_index(['State','RegionName'])\n",
    "    \n",
    "    return ans\n",
    "\n",
    "#convert_housing_data_to_quarters()"
   ]
  },
  {
   "cell_type": "code",
   "execution_count": 68,
   "metadata": {
    "collapsed": true,
    "umich_part_id": "026",
    "umich_partlist_id": "004"
   },
   "outputs": [],
   "source": [
    "def run_ttest():\n",
    "    '''First creates new data showing the decline or growth of housing prices\n",
    "    between the recession start and the recession bottom. Then runs a ttest\n",
    "    comparing the university town values to the non-university towns values, \n",
    "    return whether the alternative hypothesis (that the two groups are the same)\n",
    "    is true or not as well as the p-value of the confidence. \n",
    "    \n",
    "    Return the tuple (different, p, better) where different=True if the t-test is\n",
    "    True at a p<0.01 (we reject the null hypothesis), or different=False if \n",
    "    otherwise (we cannot reject the null hypothesis). The variable p should\n",
    "    be equal to the exact p value returned from scipy.stats.ttest_ind(). The\n",
    "    value for better should be either \"university town\" or \"non-university town\"\n",
    "    depending on which has a lower mean price ratio (which is equivilent to a\n",
    "    reduced market loss).'''\n",
    "    \n",
    "    towns = get_list_of_university_towns()\n",
    "    bottom = get_recession_bottom()\n",
    "    start = get_recession_start()\n",
    "    houses = convert_housing_data_to_quarters()\n",
    "    start = houses.columns[houses.columns.get_loc(start) - 1]\n",
    "    houses['Change'] = houses[start] - houses[bottom]\n",
    "    houses = houses[[start, bottom, 'Change']]\n",
    "    houses = houses.reset_index()\n",
    "    \n",
    "    df = pd.merge(houses, towns, how = 'inner', on = ['State','RegionName'])\n",
    "    df['University'] = True\n",
    "    \n",
    "    df2 = pd.merge(houses, df, how = 'outer', on = ['State','RegionName', start, bottom, 'Change'])\n",
    "    df2['University'] = df2['University'].fillna(False)\n",
    "    \n",
    "    Uni = df2[df2['University'] == True]\n",
    "    Non_Uni = df2[df2['University'] == False]\n",
    "    \n",
    "    tValue, pValue = ttest_ind(Uni['Change'].dropna(), Non_Uni['Change'].dropna())\n",
    "    \n",
    "    difference = pValue < 0.01\n",
    "    better = \"university town\" if Uni['Change'].mean() < Non_Uni['Change'].mean() else \"non-university town\"\n",
    "    \n",
    "    return (difference, pValue, better)\n",
    "\n",
    "#run_ttest()"
   ]
  },
  {
   "cell_type": "code",
   "execution_count": null,
   "metadata": {
    "collapsed": true
   },
   "outputs": [],
   "source": []
  },
  {
   "cell_type": "code",
   "execution_count": null,
   "metadata": {
    "collapsed": true
   },
   "outputs": [],
   "source": []
  }
 ],
 "metadata": {
  "coursera": {
   "course_slug": "python-data-analysis",
   "graded_item_id": "Il9Fx",
   "launcher_item_id": "TeDW0",
   "part_id": "WGlun"
  },
  "kernelspec": {
   "display_name": "Python 3",
   "language": "python",
   "name": "python3"
  },
  "language_info": {
   "codemirror_mode": {
    "name": "ipython",
    "version": 3
   },
   "file_extension": ".py",
   "mimetype": "text/x-python",
   "name": "python",
   "nbconvert_exporter": "python",
   "pygments_lexer": "ipython3",
   "version": "3.6.2"
  },
  "umich": {
   "id": "Assignment 4",
   "version": "1.1"
  }
 },
 "nbformat": 4,
 "nbformat_minor": 1
}
